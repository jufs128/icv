1

# Trabalho prático 1 - ICV

2

### Inicialização

3

%matplotlib inlinehttp://localhost:8888/notebooks/ICV%20TP%201.ipynb#Inicializa%C3%A7%C3%A3o
import cv2
import numpy as np
from matplotlib import pyplot as plt
from scipy import fftpack
import matplotlib.image as mpimg

4

### Imagem original

5

img = cv2.imread('bts.jpg',0)
plt.title('Original Image')
plt.imshow(img, cmap = 'gray')
plt.show()

6 

### Compressão Psicovisual

7

# 4 bits
img_c = img & 0xf0
plt.title('depth: 4 bits')
plt.imshow(img_c, cmap = 'gray')
plt.show()

8

### Huffman

# image entropy
def calcEntropy(img):
    hist = cv2.calcHist([img],[0],None,[256],[0,256])
    hist = hist.ravel()/hist.sum()
    logs = np.log2(hist+0.00001)
    entropy = -1 * (hist*logs).sum()

    return entropy

9

# huffman
from heapq import heappush, heappop, heapify
from collections import defaultdict

def encode(symb2freq):
    """Huffman encode the given dict mapping symbols to weights"""
    heap = [[wt, [sym, ""]] for sym, wt in symb2freq.items()]
    heapify(heap)
    while len(heap) > 1:
        lo = heappop(heap)
        hi = heappop(heap)
        for pair in lo[1:]:
            pair[1] = '0' + pair[1]
        for pair in hi[1:]:
            pair[1] = '1' + pair[1]
        heappush(heap, [lo[0] + hi[0]] + lo[1:] + hi[1:])
    return sorted(heappop(heap)[1:], key=lambda p: (len(p[-1]), p))

10

#height, width =  img_c.shape
#entimg1 = calcEntropy(img_c)

# compute histogram
#hist = cv2.calcHist([img_c],[0],None,[256],[0,256])
#hist = hist.ravel()/hist.sum()

symb2freq = defaultdict(float)
for i in range(0,256):
    symb2freq[i] = hist[i]
    
#print symb2freq

# enconde
huff = encode(symb2freq)

#print ("Symbol\tWeight\t\tHuffman Code")
#for p in huff:
#   if (symb2freq[p[0]] > 0):
#        print ("%d\t%f\t%s" % (p[0], symb2freq[p[0]], p[1]))
    
#nbits = 0
#for i in range(0,256):
#    nbits += len(huff[i][1]) * hist[huff[i][0]] * height * width
    
# bits per pixel
#bpp = nbits / (height * width)
     
#print ("\nSummary:")    
#print ("Image entropy: %5.3f" % entimg1)
#print ("size: %d bytes" % (nbits / 8))
#print ("%5.3f bits/pixel" % bpp)
#print ("code efficiency: %5.3f" % (entimg1/bpp))
#print ("Compression ratio (without header): %5.3f" % (8/bpp))

plt.subplot(121),plt.imshow(img_c, cmap = 'gray', clim=(0, 255))
plt.title('input image'), plt.xticks([]), plt.yticks([])
plt.show()

11

### DCT

12

def remove_above_2nd_diag(image):
    return np.rot90(np.triu(np.rot90(image)), 3)
# extração da DCT para a imagem
img_c = img_c.astype(float)
img_c = img_c-128
step = 8

size = img_c.shape
DCT = np.zeros(size, dtype=np.float)

for y in range(0,size[0],step):
    for x in range(0,size[1],step):
        
        dct = fftpack.dct(fftpack.dct(img_c[y:y+step, x:x+step].T, norm='ortho').T, norm='ortho')
        
        first = dct[0, 0]
        
        dct = remove_above_2nd_diag(dct)
        
        DCT[y:y+step, x:x+step] = dct
        dct[y, x] = first

plt.subplot(121),plt.imshow(DCT, cmap = 'gray', clim=(0, 255))
plt.title('DCT image'), plt.xticks([]), plt.yticks([])
plt.show()

# file with the DCT output
mpimg.imsave("dct.png", DCT, 0, 255, cmap='gray')

13

# TESTE

14

# Questao 2 do Leroy - Versão 2:

img_c = img_c.stype(float)
img_c = im_c - 128

dct_hf = apply_2ddct_by_blocks_hf(img_c, keep_first=True)

new_image = apply_2didct_by_blocks(dct_hf)

img_c = img_c + 128
new_image = new_image + 128

plt.imshow(img_c, cmap = 'gray', clim=(0, 255))
plt.title('Original:')
plt.show()

plt.imshow(new_image, cmap = 'gray', clim=(0, 255))
plt.title('Nova:')
plt.show()

print('PSNR:', psnr(image, new_image))
print('RMSE:', rmse(image, new_image))

15

### IDCT

16

IDCT = np.zeros(size, dtype=np.float)

for y in range(0,size[0],step):
    for x in range(0,size[1],step):
                
        idct = fftpack.idct(fftpack.idct(DCT[y:y+step, x:x+step].T, norm='ortho').T, norm='ortho')

        IDCT[y:y+step, x:x+step] = idct

img_c = img_c+128  
IDCT = IDCT+128

plt.subplot(121),plt.imshow(IDCT, cmap = 'gray', clim=(0, 255))
plt.title('Inverse DCT'), plt.xticks([]), plt.yticks([])
plt.show()

# file with the inverse of DCT
mpimg.imsave("idct.png", IDCT, 0, 255, cmap='gray')

17

PSNR E RSME

18

def rmse(predictions, targets):
    return np.sqrt(((predictions - targets) ** 2).mean())


def psnr(predictions, targets):
    rmsev = rmse(predictions, targets)
    return 20 * np.log10(255/rmsev)